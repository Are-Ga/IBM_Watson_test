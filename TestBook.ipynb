{
    "cells": [
        {
            "cell_type": "code",
            "execution_count": 1,
            "metadata": {},
            "outputs": [
                {
                    "name": "stdout",
                    "output_type": "stream",
                    "text": "hello, world\n"
                }
            ],
            "source": "print(\"hello, world\")"
        },
        {
            "cell_type": "markdown",
            "metadata": {},
            "source": "Great fun was had by me! "
        },
        {
            "cell_type": "code",
            "execution_count": 3,
            "metadata": {},
            "outputs": [
                {
                    "name": "stdout",
                    "output_type": "stream",
                    "text": "If you are reading this, I can only ask why? :) \n"
                }
            ],
            "source": "print(\"If you are reading this, I can only ask why? :) \")"
        },
        {
            "cell_type": "markdown",
            "metadata": {},
            "source": "After all, this is just a simple test to see the how the integrations work...\n\nBut maybe, just maybe, more fun stuff is coming in the future! :) "
        },
        {
            "cell_type": "code",
            "execution_count": null,
            "metadata": {},
            "outputs": [],
            "source": ""
        }
    ],
    "metadata": {
        "kernelspec": {
            "display_name": "Python 3.10",
            "language": "python",
            "name": "python3"
        },
        "language_info": {
            "codemirror_mode": {
                "name": "ipython",
                "version": 3
            },
            "file_extension": ".py",
            "mimetype": "text/x-python",
            "name": "python",
            "nbconvert_exporter": "python",
            "pygments_lexer": "ipython3",
            "version": "3.10.6"
        }
    },
    "nbformat": 4,
    "nbformat_minor": 1
}